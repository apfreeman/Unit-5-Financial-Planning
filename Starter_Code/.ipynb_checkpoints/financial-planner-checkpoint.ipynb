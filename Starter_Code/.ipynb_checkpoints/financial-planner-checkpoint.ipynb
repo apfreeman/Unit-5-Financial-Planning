{
 "cells": [
  {
   "cell_type": "markdown",
   "metadata": {},
   "source": [
    "# Unit 5 - Financial Planning"
   ]
  },
  {
   "cell_type": "code",
   "execution_count": null,
   "metadata": {},
   "outputs": [],
   "source": [
    "# Initial imports\n",
    "import os\n",
    "import requests\n",
    "import pandas as pd\n",
    "from dotenv import load_dotenv\n",
    "import alpaca_trade_api as tradeapi\n",
    "from MCForecastTools import MCSimulation\n",
    "import json\n",
    "\n",
    "%matplotlib inline"
   ]
  },
  {
   "cell_type": "code",
   "execution_count": null,
   "metadata": {},
   "outputs": [],
   "source": [
    "# Load .env enviroment variables\n",
    "load_dotenv()"
   ]
  },
  {
   "cell_type": "markdown",
   "metadata": {},
   "source": [
    "## Part 1 - Personal Finance Planner"
   ]
  },
  {
   "cell_type": "markdown",
   "metadata": {},
   "source": [
    "### Collect Crypto Prices Using the `requests` Library"
   ]
  },
  {
   "cell_type": "code",
   "execution_count": null,
   "metadata": {},
   "outputs": [],
   "source": [
    "# Set current amount of crypto assets\n",
    "my_btc = 1.2 \n",
    "my_eth = 5.3"
   ]
  },
  {
   "cell_type": "code",
   "execution_count": null,
   "metadata": {},
   "outputs": [],
   "source": [
    "# Crypto API URLs\n",
    "btc_url = \"https://api.alternative.me/v2/ticker/Bitcoin/?convert=CAD\"\n",
    "eth_url = \"https://api.alternative.me/v2/ticker/Ethereum/?convert=CAD\""
   ]
  },
  {
   "cell_type": "code",
   "execution_count": null,
   "metadata": {},
   "outputs": [],
   "source": [
    "# Fetch current BTC price\n",
    "btc_response_data = requests.get(btc_url)\n",
    "btc_response_content_json = btc_response_data.json()\n",
    "btc_price = int(btc_response_content_json[\"data\"][\"1\"][\"quotes\"][\"CAD\"][\"price\"])\n",
    "\n",
    "# Fetch current ETH price\n",
    "eth_response_data = requests.get(eth_url)\n",
    "eth_response_content_json = eth_response_data.json()\n",
    "eth_price = int(eth_response_content_json[\"data\"][\"1027\"][\"quotes\"][\"CAD\"][\"price\"])\n",
    "\n",
    "\n",
    "# Compute current value of my crpto\n",
    "my_btc_value = btc_price * my_btc\n",
    "my_eth_value = eth_price * my_eth\n",
    "\n",
    "# Print current crypto wallet balance\n",
    "print(f\"The current value of your {my_btc} BTC is ${my_btc_value:0.2f}\")\n",
    "print(f\"The current value of your {my_eth} ETH is ${my_eth_value:0.2f}\")\n"
   ]
  },
  {
   "cell_type": "markdown",
   "metadata": {},
   "source": [
    "### Collect Investments Data Using Alpaca: `SPY` (stocks) and `AGG` (bonds)"
   ]
  },
  {
   "cell_type": "code",
   "execution_count": null,
   "metadata": {},
   "outputs": [],
   "source": [
    "# Set current amount of shares\n",
    "my_agg = 200\n",
    "my_spy = 50"
   ]
  },
  {
   "cell_type": "code",
   "execution_count": null,
   "metadata": {},
   "outputs": [],
   "source": [
    "# Set Alpaca API key and secret\n",
    "alpaca_api_key = os.getenv(\"ALPACA_API_KEY\")\n",
    "alpaca_secret_key = os.getenv(\"ALPACA_SECRET_KEY\")\n",
    "\n",
    "# Create the Alpaca API object\n",
    "api = tradeapi.REST(\n",
    "    alpaca_api_key,\n",
    "    alpaca_secret_key,\n",
    "    api_version = \"v2\"\n",
    ")"
   ]
  },
  {
   "cell_type": "code",
   "execution_count": null,
   "metadata": {},
   "outputs": [],
   "source": [
    "# Format current date as ISO format\n",
    "from datetime import datetime\n",
    "today = datetime.now().isoformat()\n",
    "\n",
    "# Set the tickers\n",
    "tickers = [\"AGG\", \"SPY\"]\n",
    "\n",
    "# Set timeframe to '1D' for Alpaca API\n",
    "timeframe = \"1D\"\n",
    "\n",
    "# Get current closing prices for SPY and AGG\n",
    "# (use a limit=1000 parameter to call the most recent 1000 days of data)\n",
    "bar = api.get_barset(\n",
    "    tickers, \n",
    "    timeframe, \n",
    "    start=today, \n",
    "    end=today, \n",
    "    limit=1000\n",
    ").df\n",
    "\n",
    "# Preview DataFrame\n",
    "bar"
   ]
  },
  {
   "cell_type": "code",
   "execution_count": null,
   "metadata": {},
   "outputs": [],
   "source": [
    "# Pick AGG and SPY close prices\n",
    "latest_close = bar.tail(1)\n",
    "\n",
    "agg_close_price = latest_close[\"AGG\"][\"close\"][0]\n",
    "spy_close_price = latest_close[\"SPY\"][\"close\"][0]\n",
    "\n",
    "# Print AGG and SPY close prices\n",
    "print(f\"Current AGG closing price: ${agg_close_price}\")\n",
    "print(f\"Current SPY closing price: ${spy_close_price}\")"
   ]
  },
  {
   "cell_type": "code",
   "execution_count": null,
   "metadata": {},
   "outputs": [],
   "source": [
    "# Compute the current value of shares\n",
    "my_agg_value = my_agg * agg_close_price\n",
    "my_spy_value = my_spy * spy_close_price\n",
    "\n",
    "# Print current value of shares\n",
    "print(f\"The current value of your {my_agg} AGG shares is ${my_agg_value:0.2f}\")\n",
    "print(f\"The current value of your {my_spy} SPY shares is ${my_spy_value:0.2f}\")"
   ]
  },
  {
   "cell_type": "markdown",
   "metadata": {},
   "source": [
    "### Savings Health Analysis"
   ]
  },
  {
   "cell_type": "code",
   "execution_count": null,
   "metadata": {},
   "outputs": [],
   "source": [
    "# Set monthly household income\n",
    "monthly_income = 12000\n",
    "\n",
    "#investment totals\n",
    "crypto_total = my_btc_value + my_eth_value\n",
    "shares_total = my_agg_value + my_spy_value\n",
    "\n",
    "# Consolidate financial assets data\n",
    "investment_type = [\"crypto \", \"shares \"]\n",
    "\n",
    "# Create savings DataFrame\n",
    "# Create the shares DataFrame with `tickers` as index\n",
    "df_savings  = pd.DataFrame(index=[investment_type])\n",
    "df_savings['amount'] = [crypto_total, shares_total]\n",
    "\n",
    "# Display savings DataFrame\n",
    "df_savings"
   ]
  },
  {
   "cell_type": "code",
   "execution_count": null,
   "metadata": {},
   "outputs": [],
   "source": [
    "# Plot savings pie chart\n",
    "labels = 'Crypto', 'Shares'\n",
    "df_savings.plot.pie(y='amount',subplots=False, autopct='%1.1f%%',labels=labels)"
   ]
  },
  {
   "cell_type": "code",
   "execution_count": null,
   "metadata": {},
   "outputs": [],
   "source": [
    "# Set ideal emergency fund\n",
    "emergency_fund = monthly_income * 3\n",
    "\n",
    "# Total Savings\n",
    "total_savings = df_savings[\"amount\"][0] + df_savings[\"amount\"][1]\n",
    "\n",
    "# Validate saving health\n",
    "if total_savings > emergency_fund:\n",
    "    print(f\"Congratulations you have more than enough money in your investments in case of an emergency\")\n",
    "elif total_savings == emergency_fund:\n",
    "    print(f\"Congratulations you have reached your financial goal of having enough money in case of emergency\")\n",
    "elif total_savings < emergency_fund:\n",
    "    print(f\"You are ${(round(total_savings-emergency_fund,2)*-1)} away from having enough money in case of emergency\") "
   ]
  },
  {
   "cell_type": "markdown",
   "metadata": {},
   "source": [
    "## Part 2 - Retirement Planning\n",
    "\n",
    "### Monte Carlo Simulation"
   ]
  },
  {
   "cell_type": "code",
   "execution_count": null,
   "metadata": {},
   "outputs": [],
   "source": [
    "# Set start and end dates of five years back from today.\n",
    "# Sample results may vary from the solution based on the time frame chosen\n",
    "start_date = pd.Timestamp('2016-12-07', tz='America/New_York').isoformat()\n",
    "end_date = pd.Timestamp('2021-12-07', tz='America/New_York').isoformat()"
   ]
  },
  {
   "cell_type": "code",
   "execution_count": null,
   "metadata": {},
   "outputs": [],
   "source": [
    "# Get 5 years' worth of historical data for SPY and AGG\n",
    "\n",
    "# Set timeframe to '1D' for Alpaca API\n",
    "timeframe = \"1D\"\n",
    "\n",
    "# Get current closing prices for SPY and AGG\n",
    "# (use a limit=1000 parameter to call the most recent 1000 days of data)\n",
    "df_stock_data = api.get_barset(\n",
    "    tickers, \n",
    "    timeframe, \n",
    "    start=start_date, \n",
    "    end=end_date, limit=1000\n",
    ").df\n",
    "\n",
    "# Display sample data\n",
    "df_stock_data.head()"
   ]
  },
  {
   "cell_type": "code",
   "execution_count": null,
   "metadata": {},
   "outputs": [],
   "source": [
    "# Configuring a Monte Carlo simulation to forecast 30 years cumulative returns\n",
    "MC_40AGG_60SPY_dist = MCSimulation(\n",
    "    portfolio_data = df_stock_data,\n",
    "    weights = [0.4,0.6],\n",
    "    num_simulation = 500,\n",
    "    num_trading_days = 252*30\n",
    ")"
   ]
  },
  {
   "cell_type": "code",
   "execution_count": null,
   "metadata": {},
   "outputs": [],
   "source": [
    "# Print the simulation input data\n",
    "MC_40AGG_60SPY_dist.portfolio_data.head()"
   ]
  },
  {
   "cell_type": "code",
   "execution_count": null,
   "metadata": {},
   "outputs": [],
   "source": [
    "# Running a Monte Carlo simulation to forecast 30 years cumulative returns\n",
    "MC_40AGG_60SPY_dist.calc_cumulative_return()"
   ]
  },
  {
   "cell_type": "code",
   "execution_count": null,
   "metadata": {},
   "outputs": [],
   "source": [
    "# Plot simulation outcomes\n",
    "MC_40AGG_60SPY_dist.plot_simulation()"
   ]
  },
  {
   "cell_type": "code",
   "execution_count": null,
   "metadata": {},
   "outputs": [],
   "source": [
    "# Plot probability distribution and confidence intervals\n",
    "MC_40AGG_60SPY_dist.plot_distribution()"
   ]
  },
  {
   "cell_type": "markdown",
   "metadata": {},
   "source": [
    "### Retirement Analysis"
   ]
  },
  {
   "cell_type": "code",
   "execution_count": null,
   "metadata": {},
   "outputs": [],
   "source": [
    "# Fetch summary statistics from the Monte Carlo simulation results\n",
    "MC_40AGG_60SPY_summary = MC_40AGG_60SPY_dist.summarize_cumulative_return()\n",
    "\n",
    "# Print summary statistics\n",
    "print(MC_40AGG_60SPY_summary)"
   ]
  },
  {
   "cell_type": "markdown",
   "metadata": {},
   "source": [
    "### Calculate the expected portfolio return at the `95%` lower and upper confidence intervals based on a `$20,000` initial investment."
   ]
  },
  {
   "cell_type": "code",
   "execution_count": null,
   "metadata": {},
   "outputs": [],
   "source": [
    "# Set initial investment\n",
    "initial_investment = 20000\n",
    "\n",
    "# Use the lower and upper `95%` confidence intervals to calculate the range of the possible outcomes of our $20,000\n",
    "ci_lower = round(MC_40AGG_60SPY_summary[8]*initial_investment,2)\n",
    "ci_upper = round(MC_40AGG_60SPY_summary[9]*initial_investment,2)\n",
    "\n",
    "# Print results\n",
    "print(f\"There is a 95% chance that an initial investment of ${initial_investment} in the portfolio\"\n",
    "      f\" over the next 30 years will end within in the range of\"\n",
    "      f\" ${ci_lower} and ${ci_upper}\")"
   ]
  },
  {
   "cell_type": "markdown",
   "metadata": {},
   "source": [
    "### Calculate the expected portfolio return at the `95%` lower and upper confidence intervals based on a `50%` increase in the initial investment."
   ]
  },
  {
   "cell_type": "code",
   "execution_count": null,
   "metadata": {},
   "outputs": [],
   "source": [
    "# Set initial investment\n",
    "initial_investment = 20000 * 1.5\n",
    "\n",
    "# Use the lower and upper `95%` confidence intervals to calculate the range of the possible outcomes of our $30,000\n",
    "ci_lower = round(MC_40AGG_60SPY_summary[8]*initial_investment,2)\n",
    "ci_upper = round(MC_40AGG_60SPY_summary[9]*initial_investment,2)\n",
    "\n",
    "# Print results\n",
    "print(f\"There is a 95% chance that an initial investment of ${initial_investment} in the portfolio\"\n",
    "      f\" over the next 30 years will end within in the range of\"\n",
    "      f\" ${ci_lower} and ${ci_upper}\")"
   ]
  },
  {
   "cell_type": "markdown",
   "metadata": {},
   "source": [
    "## Optional Challenge - Early Retirement\n",
    "\n",
    "\n",
    "### Five Years Retirement Option"
   ]
  },
  {
   "cell_type": "code",
   "execution_count": null,
   "metadata": {},
   "outputs": [],
   "source": [
    "# Configuring a Monte Carlo simulation to forecast 5 years cumulative returns\n",
    "MC_40AGG_60SPY_dist_5yrs = MCSimulation(\n",
    "    portfolio_data = df_stock_data,\n",
    "    weights = [0.4,0.6],\n",
    "    num_simulation = 500,\n",
    "    num_trading_days = 252*5\n",
    ")"
   ]
  },
  {
   "cell_type": "code",
   "execution_count": null,
   "metadata": {
    "tags": []
   },
   "outputs": [],
   "source": [
    "# Running a Monte Carlo simulation to forecast 5 years cumulative returns\n",
    "MC_40AGG_60SPY_dist_5yrs.calc_cumulative_return()"
   ]
  },
  {
   "cell_type": "code",
   "execution_count": null,
   "metadata": {
    "tags": []
   },
   "outputs": [],
   "source": [
    "# Plot simulation outcomes\n",
    "MC_40AGG_60SPY_dist_5yrs.plot_simulation()"
   ]
  },
  {
   "cell_type": "code",
   "execution_count": null,
   "metadata": {},
   "outputs": [],
   "source": [
    "# Plot probability distribution and confidence intervals\n",
    "MC_40AGG_60SPY_dist_5yrs.plot_distribution()"
   ]
  },
  {
   "cell_type": "code",
   "execution_count": null,
   "metadata": {},
   "outputs": [],
   "source": [
    "# Fetch summary statistics from the Monte Carlo simulation results\n",
    "MC_40AGG_60SPY_summary_5yrs = MC_40AGG_60SPY_dist_5yrs.summarize_cumulative_return()\n",
    "\n",
    "# Print summary statistics\n",
    "print(MC_40AGG_60SPY_summary_5yrs)"
   ]
  },
  {
   "cell_type": "code",
   "execution_count": null,
   "metadata": {},
   "outputs": [],
   "source": [
    "# Set initial investment\n",
    "initial_investment = 60000\n",
    "\n",
    "# Use the lower and upper `95%` confidence intervals to calculate the range of the possible outcomes of our $60,000\n",
    "ci_lower_5yrs = round(MC_40AGG_60SPY_summary_5yrs[8]*initial_investment,2)\n",
    "ci_upper_5yrs = round(MC_40AGG_60SPY_summary_5yrs[9]*initial_investment,2)\n",
    "\n",
    "# Print results\n",
    "print(f\"There is a 95% chance that an initial investment of ${initial_investment} in the portfolio\"\n",
    "      f\" over the next 5 years will end within in the range of\"\n",
    "      f\" ${ci_lower_5yrs} and ${ci_upper_5yrs}\")"
   ]
  },
  {
   "cell_type": "markdown",
   "metadata": {},
   "source": [
    "### Ten Years Retirement Option"
   ]
  },
  {
   "cell_type": "code",
   "execution_count": null,
   "metadata": {},
   "outputs": [],
   "source": [
    "# Configuring a Monte Carlo simulation to forecast 10 years cumulative returns\n",
    "MC_40AGG_60SPY_dist_10yrs = MCSimulation(\n",
    "    portfolio_data = df_stock_data,\n",
    "    weights = [0.4,0.6],\n",
    "    num_simulation = 500,\n",
    "    num_trading_days = 252*10\n",
    ")"
   ]
  },
  {
   "cell_type": "code",
   "execution_count": null,
   "metadata": {},
   "outputs": [],
   "source": [
    "# Running a Monte Carlo simulation to forecast 10 years cumulative returns\n",
    "MC_40AGG_60SPY_dist_10yrs.calc_cumulative_return()"
   ]
  },
  {
   "cell_type": "code",
   "execution_count": null,
   "metadata": {},
   "outputs": [],
   "source": [
    "# Plot simulation outcomes\n",
    "MC_40AGG_60SPY_dist_10yrs.plot_simulation()"
   ]
  },
  {
   "cell_type": "code",
   "execution_count": null,
   "metadata": {},
   "outputs": [],
   "source": [
    "# Plot probability distribution and confidence intervals\n",
    "MC_40AGG_60SPY_dist_10yrs.plot_distribution()"
   ]
  },
  {
   "cell_type": "code",
   "execution_count": null,
   "metadata": {},
   "outputs": [],
   "source": [
    "# Fetch summary statistics from the Monte Carlo simulation results\n",
    "MC_40AGG_60SPY_summary_10yrs = MC_40AGG_60SPY_dist_10yrs.summarize_cumulative_return()\n",
    "\n",
    "# Print summary statistics\n",
    "print(MC_40AGG_60SPY_summary_10yrs)"
   ]
  },
  {
   "cell_type": "code",
   "execution_count": null,
   "metadata": {},
   "outputs": [],
   "source": [
    "# Set initial investment\n",
    "initial_investment = 60000\n",
    "\n",
    "# Use the lower and upper `95%` confidence intervals to calculate the range of the possible outcomes of our $60,000\n",
    "ci_lower_10yrs = round(MC_40AGG_60SPY_summary_10yrs[8]*initial_investment,2)\n",
    "ci_upper_10yrs = round(MC_40AGG_60SPY_summary_10yrs[9]*initial_investment,2)\n",
    "\n",
    "# Print results\n",
    "print(f\"There is a 95% chance that an initial investment of ${initial_investment} in the portfolio\"\n",
    "      f\" over the next 10 years will end within in the range of\"\n",
    "      f\" ${ci_lower_10yrs} and ${ci_upper_10yrs}\")"
   ]
  },
  {
   "cell_type": "markdown",
   "metadata": {
    "tags": []
   },
   "source": [
    "### Analyse the Return Ranges\n",
    "\n",
    "##### There is a 95% chance that an initial investment of 20000 dollars in the portfolio over the next 30 years will end within in the range of 93635.25 and 1401245.17 dollars.\n",
    "\n",
    "##### There is a 95% chance that an initial investment of 30000 dollars in the portfolio over the next 30 years will end within in the range of 140452.88 and 2101867.75 dollars.\n",
    "\n",
    "##### There is a 95% chance that an initial investment of 60000 dollars in the portfolio over the next 5 years will end within in the range of 52616.22 and 159946.75 dollars.\n",
    "\n",
    "##### There is a 95% chance that an initial investment of 60000 dollars in the portfolio over the next 10 years will end within in the range of 73010.25 and 315337.87 dollars.\n",
    "\n",
    "##### Reducing the investment term to 5 years and increasing the initial investment to 60000 shows that the lower confidence interval reduces to almost 50 percent the 30 year lower ci. The upper confidence level however reduces a massive amount, close to 10 percent of the 30 year upper ci\n",
    "\n",
    "##### Reducing the investment term to 10 years and increasing the initial investment to 60000 shows that the lower confidence interval reduces to almost 80 percent the 30 year lower ci. The upper confidence level however reduces a massive amount, close to 22 percent of the 30 year upper ci"
   ]
  },
  {
   "cell_type": "markdown",
   "metadata": {},
   "source": [
    "### Five Years Retirement Option 2\n",
    "\n",
    "#### Lets see what the figures look like if we use all our savings as an initial investment, and we invest it with a much more aggressive 10/90 bond to shares split for 5 years\n"
   ]
  },
  {
   "cell_type": "code",
   "execution_count": null,
   "metadata": {},
   "outputs": [],
   "source": [
    "# Configuring a Monte Carlo simulation to forecast 5 years cumulative returns\n",
    "MC_40AGG_60SPY_dist_5yrs_Option_2 = MCSimulation(\n",
    "    portfolio_data = df_stock_data,\n",
    "    weights = [0.1,0.9],\n",
    "    num_simulation = 500,\n",
    "    num_trading_days = 252*5\n",
    ")"
   ]
  },
  {
   "cell_type": "code",
   "execution_count": null,
   "metadata": {
    "tags": []
   },
   "outputs": [],
   "source": [
    "# Running a Monte Carlo simulation to forecast 5 years cumulative returns\n",
    "MC_40AGG_60SPY_dist_5yrs_Option_2.calc_cumulative_return()"
   ]
  },
  {
   "cell_type": "code",
   "execution_count": null,
   "metadata": {
    "tags": []
   },
   "outputs": [],
   "source": [
    "# Plot simulation outcomes\n",
    "MC_40AGG_60SPY_dist_5yrs_Option_2.plot_simulation()"
   ]
  },
  {
   "cell_type": "code",
   "execution_count": null,
   "metadata": {},
   "outputs": [],
   "source": [
    "# Plot probability distribution and confidence intervals\n",
    "MC_40AGG_60SPY_dist_5yrs_Option_2.plot_distribution()"
   ]
  },
  {
   "cell_type": "code",
   "execution_count": null,
   "metadata": {},
   "outputs": [],
   "source": [
    "# Fetch summary statistics from the Monte Carlo simulation results\n",
    "MC_40AGG_60SPY_summary_5yrs_Option_2 = MC_40AGG_60SPY_dist_5yrs_Option_2.summarize_cumulative_return()\n",
    "\n",
    "# Print summary statistics\n",
    "print(MC_40AGG_60SPY_summary_5yrs_Option_2)"
   ]
  },
  {
   "cell_type": "code",
   "execution_count": null,
   "metadata": {},
   "outputs": [],
   "source": [
    "# Set initial investment\n",
    "initial_investment = total_savings\n",
    "\n",
    "# Use the lower and upper `95%` confidence intervals to calculate the range of the possible outcomes of our total savings\n",
    "ci_lower_5yrs_Option_2 = round(MC_40AGG_60SPY_summary_5yrs_Option_2[8]*initial_investment,2)\n",
    "ci_upper_5yrs_Option_2 = round(MC_40AGG_60SPY_summary_5yrs_Option_2[9]*initial_investment,2)\n",
    "\n",
    "# Print results\n",
    "print(f\"There is a 95% chance that an initial investment of ${initial_investment} in the portfolio\"\n",
    "      f\" over the next 5 years will end within in the range of\"\n",
    "      f\" ${ci_lower_5yrs_Option_2} and ${ci_upper_5yrs_Option_2}\")"
   ]
  },
  {
   "cell_type": "markdown",
   "metadata": {},
   "source": [
    "### Ten Years Retirement Option 2\n",
    "\n",
    "#### Lets see what the figures look like if we use all our savings as an initial investment, and we invest it with a much more aggressive 10/90 bond to shares split for 10 years"
   ]
  },
  {
   "cell_type": "code",
   "execution_count": 111,
   "metadata": {},
   "outputs": [],
   "source": [
    "# Configuring a Monte Carlo simulation to forecast 5 years cumulative returns\n",
    "MC_40AGG_60SPY_dist_10yrs_Option_2 = MCSimulation(\n",
    "    portfolio_data = df_stock_data,\n",
    "    weights = [0.1,0.9],\n",
    "    num_simulation = 500,\n",
    "    num_trading_days = 252*10\n",
    ")"
   ]
  },
  {
   "cell_type": "code",
   "execution_count": 112,
   "metadata": {
    "tags": []
   },
   "outputs": [
    {
     "name": "stdout",
     "output_type": "stream",
     "text": [
      "Running Monte Carlo simulation number 0.\n",
      "Running Monte Carlo simulation number 10.\n",
      "Running Monte Carlo simulation number 20.\n",
      "Running Monte Carlo simulation number 30.\n",
      "Running Monte Carlo simulation number 40.\n",
      "Running Monte Carlo simulation number 50.\n",
      "Running Monte Carlo simulation number 60.\n",
      "Running Monte Carlo simulation number 70.\n",
      "Running Monte Carlo simulation number 80.\n",
      "Running Monte Carlo simulation number 90.\n",
      "Running Monte Carlo simulation number 100.\n"
     ]
    },
    {
     "name": "stderr",
     "output_type": "stream",
     "text": [
      "C:\\Users\\AdamF\\JLWorkspace\\Homework\\Week5\\Unit-5-Homework-Assignment-Financial-Planning\\Starter_Code\\MCForecastTools.py:117: PerformanceWarning: DataFrame is highly fragmented.  This is usually the result of calling `frame.insert` many times, which has poor performance.  Consider joining all columns at once using pd.concat(axis=1) instead.  To get a de-fragmented frame, use `newframe = frame.copy()`\n",
      "  portfolio_cumulative_returns[n] = (1 + sim_df.fillna(0)).cumprod()\n"
     ]
    },
    {
     "name": "stdout",
     "output_type": "stream",
     "text": [
      "Running Monte Carlo simulation number 110.\n",
      "Running Monte Carlo simulation number 120.\n",
      "Running Monte Carlo simulation number 130.\n",
      "Running Monte Carlo simulation number 140.\n",
      "Running Monte Carlo simulation number 150.\n",
      "Running Monte Carlo simulation number 160.\n",
      "Running Monte Carlo simulation number 170.\n",
      "Running Monte Carlo simulation number 180.\n",
      "Running Monte Carlo simulation number 190.\n",
      "Running Monte Carlo simulation number 200.\n",
      "Running Monte Carlo simulation number 210.\n",
      "Running Monte Carlo simulation number 220.\n",
      "Running Monte Carlo simulation number 230.\n",
      "Running Monte Carlo simulation number 240.\n",
      "Running Monte Carlo simulation number 250.\n",
      "Running Monte Carlo simulation number 260.\n",
      "Running Monte Carlo simulation number 270.\n",
      "Running Monte Carlo simulation number 280.\n",
      "Running Monte Carlo simulation number 290.\n",
      "Running Monte Carlo simulation number 300.\n",
      "Running Monte Carlo simulation number 310.\n",
      "Running Monte Carlo simulation number 320.\n",
      "Running Monte Carlo simulation number 330.\n",
      "Running Monte Carlo simulation number 340.\n",
      "Running Monte Carlo simulation number 350.\n",
      "Running Monte Carlo simulation number 360.\n",
      "Running Monte Carlo simulation number 370.\n",
      "Running Monte Carlo simulation number 380.\n",
      "Running Monte Carlo simulation number 390.\n",
      "Running Monte Carlo simulation number 400.\n",
      "Running Monte Carlo simulation number 410.\n",
      "Running Monte Carlo simulation number 420.\n",
      "Running Monte Carlo simulation number 430.\n",
      "Running Monte Carlo simulation number 440.\n",
      "Running Monte Carlo simulation number 450.\n",
      "Running Monte Carlo simulation number 460.\n",
      "Running Monte Carlo simulation number 470.\n",
      "Running Monte Carlo simulation number 480.\n",
      "Running Monte Carlo simulation number 490.\n"
     ]
    },
    {
     "data": {
      "text/html": [
       "<div>\n",
       "<style scoped>\n",
       "    .dataframe tbody tr th:only-of-type {\n",
       "        vertical-align: middle;\n",
       "    }\n",
       "\n",
       "    .dataframe tbody tr th {\n",
       "        vertical-align: top;\n",
       "    }\n",
       "\n",
       "    .dataframe thead th {\n",
       "        text-align: right;\n",
       "    }\n",
       "</style>\n",
       "<table border=\"1\" class=\"dataframe\">\n",
       "  <thead>\n",
       "    <tr style=\"text-align: right;\">\n",
       "      <th></th>\n",
       "      <th>0</th>\n",
       "      <th>1</th>\n",
       "      <th>2</th>\n",
       "      <th>3</th>\n",
       "      <th>4</th>\n",
       "      <th>5</th>\n",
       "      <th>6</th>\n",
       "      <th>7</th>\n",
       "      <th>8</th>\n",
       "      <th>9</th>\n",
       "      <th>...</th>\n",
       "      <th>490</th>\n",
       "      <th>491</th>\n",
       "      <th>492</th>\n",
       "      <th>493</th>\n",
       "      <th>494</th>\n",
       "      <th>495</th>\n",
       "      <th>496</th>\n",
       "      <th>497</th>\n",
       "      <th>498</th>\n",
       "      <th>499</th>\n",
       "    </tr>\n",
       "  </thead>\n",
       "  <tbody>\n",
       "    <tr>\n",
       "      <th>0</th>\n",
       "      <td>1.000000</td>\n",
       "      <td>1.000000</td>\n",
       "      <td>1.000000</td>\n",
       "      <td>1.000000</td>\n",
       "      <td>1.000000</td>\n",
       "      <td>1.000000</td>\n",
       "      <td>1.000000</td>\n",
       "      <td>1.000000</td>\n",
       "      <td>1.000000</td>\n",
       "      <td>1.000000</td>\n",
       "      <td>...</td>\n",
       "      <td>1.000000</td>\n",
       "      <td>1.000000</td>\n",
       "      <td>1.000000</td>\n",
       "      <td>1.000000</td>\n",
       "      <td>1.000000</td>\n",
       "      <td>1.000000</td>\n",
       "      <td>1.000000</td>\n",
       "      <td>1.000000</td>\n",
       "      <td>1.000000</td>\n",
       "      <td>1.000000</td>\n",
       "    </tr>\n",
       "    <tr>\n",
       "      <th>1</th>\n",
       "      <td>0.993620</td>\n",
       "      <td>0.997637</td>\n",
       "      <td>1.001840</td>\n",
       "      <td>0.987807</td>\n",
       "      <td>1.002236</td>\n",
       "      <td>1.002139</td>\n",
       "      <td>0.995919</td>\n",
       "      <td>0.984978</td>\n",
       "      <td>1.008571</td>\n",
       "      <td>1.002122</td>\n",
       "      <td>...</td>\n",
       "      <td>1.007198</td>\n",
       "      <td>0.987028</td>\n",
       "      <td>1.000214</td>\n",
       "      <td>0.998382</td>\n",
       "      <td>1.005952</td>\n",
       "      <td>1.005805</td>\n",
       "      <td>0.990653</td>\n",
       "      <td>0.996887</td>\n",
       "      <td>0.994113</td>\n",
       "      <td>1.015023</td>\n",
       "    </tr>\n",
       "    <tr>\n",
       "      <th>2</th>\n",
       "      <td>0.990182</td>\n",
       "      <td>0.973789</td>\n",
       "      <td>0.989402</td>\n",
       "      <td>0.981403</td>\n",
       "      <td>0.995811</td>\n",
       "      <td>1.004433</td>\n",
       "      <td>0.996784</td>\n",
       "      <td>0.992223</td>\n",
       "      <td>1.009868</td>\n",
       "      <td>1.013830</td>\n",
       "      <td>...</td>\n",
       "      <td>1.003247</td>\n",
       "      <td>1.005593</td>\n",
       "      <td>0.972931</td>\n",
       "      <td>1.003776</td>\n",
       "      <td>1.022323</td>\n",
       "      <td>1.022800</td>\n",
       "      <td>0.972858</td>\n",
       "      <td>1.002813</td>\n",
       "      <td>1.005453</td>\n",
       "      <td>1.025126</td>\n",
       "    </tr>\n",
       "    <tr>\n",
       "      <th>3</th>\n",
       "      <td>1.006024</td>\n",
       "      <td>0.968500</td>\n",
       "      <td>0.972616</td>\n",
       "      <td>0.997813</td>\n",
       "      <td>0.999590</td>\n",
       "      <td>0.998628</td>\n",
       "      <td>0.995679</td>\n",
       "      <td>0.991512</td>\n",
       "      <td>1.011453</td>\n",
       "      <td>1.020562</td>\n",
       "      <td>...</td>\n",
       "      <td>1.000844</td>\n",
       "      <td>1.031696</td>\n",
       "      <td>0.954841</td>\n",
       "      <td>1.002533</td>\n",
       "      <td>1.036647</td>\n",
       "      <td>1.020015</td>\n",
       "      <td>0.978618</td>\n",
       "      <td>0.984276</td>\n",
       "      <td>1.032309</td>\n",
       "      <td>1.015397</td>\n",
       "    </tr>\n",
       "    <tr>\n",
       "      <th>4</th>\n",
       "      <td>1.000889</td>\n",
       "      <td>0.983409</td>\n",
       "      <td>0.952740</td>\n",
       "      <td>0.989341</td>\n",
       "      <td>0.987328</td>\n",
       "      <td>1.007457</td>\n",
       "      <td>1.018705</td>\n",
       "      <td>0.989343</td>\n",
       "      <td>1.031871</td>\n",
       "      <td>1.031757</td>\n",
       "      <td>...</td>\n",
       "      <td>0.996069</td>\n",
       "      <td>1.061510</td>\n",
       "      <td>0.956184</td>\n",
       "      <td>0.988318</td>\n",
       "      <td>1.035658</td>\n",
       "      <td>1.029804</td>\n",
       "      <td>0.968272</td>\n",
       "      <td>0.980272</td>\n",
       "      <td>1.021153</td>\n",
       "      <td>1.008758</td>\n",
       "    </tr>\n",
       "    <tr>\n",
       "      <th>...</th>\n",
       "      <td>...</td>\n",
       "      <td>...</td>\n",
       "      <td>...</td>\n",
       "      <td>...</td>\n",
       "      <td>...</td>\n",
       "      <td>...</td>\n",
       "      <td>...</td>\n",
       "      <td>...</td>\n",
       "      <td>...</td>\n",
       "      <td>...</td>\n",
       "      <td>...</td>\n",
       "      <td>...</td>\n",
       "      <td>...</td>\n",
       "      <td>...</td>\n",
       "      <td>...</td>\n",
       "      <td>...</td>\n",
       "      <td>...</td>\n",
       "      <td>...</td>\n",
       "      <td>...</td>\n",
       "      <td>...</td>\n",
       "      <td>...</td>\n",
       "    </tr>\n",
       "    <tr>\n",
       "      <th>2516</th>\n",
       "      <td>1.649730</td>\n",
       "      <td>1.208318</td>\n",
       "      <td>6.615835</td>\n",
       "      <td>3.264903</td>\n",
       "      <td>1.286253</td>\n",
       "      <td>3.345173</td>\n",
       "      <td>0.999473</td>\n",
       "      <td>1.952332</td>\n",
       "      <td>4.405593</td>\n",
       "      <td>1.794537</td>\n",
       "      <td>...</td>\n",
       "      <td>2.124918</td>\n",
       "      <td>1.927189</td>\n",
       "      <td>0.388074</td>\n",
       "      <td>4.035250</td>\n",
       "      <td>0.804642</td>\n",
       "      <td>2.649111</td>\n",
       "      <td>1.756330</td>\n",
       "      <td>10.291784</td>\n",
       "      <td>3.202001</td>\n",
       "      <td>4.029359</td>\n",
       "    </tr>\n",
       "    <tr>\n",
       "      <th>2517</th>\n",
       "      <td>1.654761</td>\n",
       "      <td>1.209111</td>\n",
       "      <td>6.613303</td>\n",
       "      <td>3.243057</td>\n",
       "      <td>1.288326</td>\n",
       "      <td>3.328877</td>\n",
       "      <td>0.988866</td>\n",
       "      <td>1.947875</td>\n",
       "      <td>4.488534</td>\n",
       "      <td>1.768311</td>\n",
       "      <td>...</td>\n",
       "      <td>2.069951</td>\n",
       "      <td>1.922803</td>\n",
       "      <td>0.384425</td>\n",
       "      <td>4.016702</td>\n",
       "      <td>0.801494</td>\n",
       "      <td>2.606814</td>\n",
       "      <td>1.722427</td>\n",
       "      <td>10.225545</td>\n",
       "      <td>3.243995</td>\n",
       "      <td>4.021076</td>\n",
       "    </tr>\n",
       "    <tr>\n",
       "      <th>2518</th>\n",
       "      <td>1.678435</td>\n",
       "      <td>1.231493</td>\n",
       "      <td>6.675100</td>\n",
       "      <td>3.292411</td>\n",
       "      <td>1.294216</td>\n",
       "      <td>3.370854</td>\n",
       "      <td>1.009078</td>\n",
       "      <td>1.925438</td>\n",
       "      <td>4.398676</td>\n",
       "      <td>1.756385</td>\n",
       "      <td>...</td>\n",
       "      <td>2.102085</td>\n",
       "      <td>1.935311</td>\n",
       "      <td>0.385504</td>\n",
       "      <td>3.990994</td>\n",
       "      <td>0.812862</td>\n",
       "      <td>2.602783</td>\n",
       "      <td>1.686110</td>\n",
       "      <td>10.027062</td>\n",
       "      <td>3.263756</td>\n",
       "      <td>4.114560</td>\n",
       "    </tr>\n",
       "    <tr>\n",
       "      <th>2519</th>\n",
       "      <td>1.694585</td>\n",
       "      <td>1.231886</td>\n",
       "      <td>6.660771</td>\n",
       "      <td>3.337636</td>\n",
       "      <td>1.289406</td>\n",
       "      <td>3.302765</td>\n",
       "      <td>1.028731</td>\n",
       "      <td>1.981398</td>\n",
       "      <td>4.333597</td>\n",
       "      <td>1.729045</td>\n",
       "      <td>...</td>\n",
       "      <td>2.106645</td>\n",
       "      <td>1.943381</td>\n",
       "      <td>0.383437</td>\n",
       "      <td>3.942591</td>\n",
       "      <td>0.813291</td>\n",
       "      <td>2.623429</td>\n",
       "      <td>1.693084</td>\n",
       "      <td>9.914971</td>\n",
       "      <td>3.256877</td>\n",
       "      <td>4.152561</td>\n",
       "    </tr>\n",
       "    <tr>\n",
       "      <th>2520</th>\n",
       "      <td>1.691009</td>\n",
       "      <td>1.232577</td>\n",
       "      <td>6.745406</td>\n",
       "      <td>3.307651</td>\n",
       "      <td>1.303108</td>\n",
       "      <td>3.374290</td>\n",
       "      <td>1.046540</td>\n",
       "      <td>1.988411</td>\n",
       "      <td>4.315270</td>\n",
       "      <td>1.722078</td>\n",
       "      <td>...</td>\n",
       "      <td>2.126505</td>\n",
       "      <td>1.920409</td>\n",
       "      <td>0.383329</td>\n",
       "      <td>3.948049</td>\n",
       "      <td>0.801762</td>\n",
       "      <td>2.583970</td>\n",
       "      <td>1.725979</td>\n",
       "      <td>9.952056</td>\n",
       "      <td>3.224846</td>\n",
       "      <td>4.147545</td>\n",
       "    </tr>\n",
       "  </tbody>\n",
       "</table>\n",
       "<p>2521 rows × 500 columns</p>\n",
       "</div>"
      ],
      "text/plain": [
       "           0         1         2         3         4         5         6    \\\n",
       "0     1.000000  1.000000  1.000000  1.000000  1.000000  1.000000  1.000000   \n",
       "1     0.993620  0.997637  1.001840  0.987807  1.002236  1.002139  0.995919   \n",
       "2     0.990182  0.973789  0.989402  0.981403  0.995811  1.004433  0.996784   \n",
       "3     1.006024  0.968500  0.972616  0.997813  0.999590  0.998628  0.995679   \n",
       "4     1.000889  0.983409  0.952740  0.989341  0.987328  1.007457  1.018705   \n",
       "...        ...       ...       ...       ...       ...       ...       ...   \n",
       "2516  1.649730  1.208318  6.615835  3.264903  1.286253  3.345173  0.999473   \n",
       "2517  1.654761  1.209111  6.613303  3.243057  1.288326  3.328877  0.988866   \n",
       "2518  1.678435  1.231493  6.675100  3.292411  1.294216  3.370854  1.009078   \n",
       "2519  1.694585  1.231886  6.660771  3.337636  1.289406  3.302765  1.028731   \n",
       "2520  1.691009  1.232577  6.745406  3.307651  1.303108  3.374290  1.046540   \n",
       "\n",
       "           7         8         9    ...       490       491       492  \\\n",
       "0     1.000000  1.000000  1.000000  ...  1.000000  1.000000  1.000000   \n",
       "1     0.984978  1.008571  1.002122  ...  1.007198  0.987028  1.000214   \n",
       "2     0.992223  1.009868  1.013830  ...  1.003247  1.005593  0.972931   \n",
       "3     0.991512  1.011453  1.020562  ...  1.000844  1.031696  0.954841   \n",
       "4     0.989343  1.031871  1.031757  ...  0.996069  1.061510  0.956184   \n",
       "...        ...       ...       ...  ...       ...       ...       ...   \n",
       "2516  1.952332  4.405593  1.794537  ...  2.124918  1.927189  0.388074   \n",
       "2517  1.947875  4.488534  1.768311  ...  2.069951  1.922803  0.384425   \n",
       "2518  1.925438  4.398676  1.756385  ...  2.102085  1.935311  0.385504   \n",
       "2519  1.981398  4.333597  1.729045  ...  2.106645  1.943381  0.383437   \n",
       "2520  1.988411  4.315270  1.722078  ...  2.126505  1.920409  0.383329   \n",
       "\n",
       "           493       494       495       496        497       498       499  \n",
       "0     1.000000  1.000000  1.000000  1.000000   1.000000  1.000000  1.000000  \n",
       "1     0.998382  1.005952  1.005805  0.990653   0.996887  0.994113  1.015023  \n",
       "2     1.003776  1.022323  1.022800  0.972858   1.002813  1.005453  1.025126  \n",
       "3     1.002533  1.036647  1.020015  0.978618   0.984276  1.032309  1.015397  \n",
       "4     0.988318  1.035658  1.029804  0.968272   0.980272  1.021153  1.008758  \n",
       "...        ...       ...       ...       ...        ...       ...       ...  \n",
       "2516  4.035250  0.804642  2.649111  1.756330  10.291784  3.202001  4.029359  \n",
       "2517  4.016702  0.801494  2.606814  1.722427  10.225545  3.243995  4.021076  \n",
       "2518  3.990994  0.812862  2.602783  1.686110  10.027062  3.263756  4.114560  \n",
       "2519  3.942591  0.813291  2.623429  1.693084   9.914971  3.256877  4.152561  \n",
       "2520  3.948049  0.801762  2.583970  1.725979   9.952056  3.224846  4.147545  \n",
       "\n",
       "[2521 rows x 500 columns]"
      ]
     },
     "execution_count": 112,
     "metadata": {},
     "output_type": "execute_result"
    }
   ],
   "source": [
    "# Running a Monte Carlo simulation to forecast 5 years cumulative returns\n",
    "MC_40AGG_60SPY_dist_10yrs_Option_2.calc_cumulative_return()"
   ]
  },
  {
   "cell_type": "code",
   "execution_count": 113,
   "metadata": {
    "tags": []
   },
   "outputs": [
    {
     "data": {
      "text/plain": [
       "<AxesSubplot:title={'center':'500 Simulations of Cumulative Portfolio Return Trajectories Over the Next 2520 Trading Days.'}>"
      ]
     },
     "execution_count": 113,
     "metadata": {},
     "output_type": "execute_result"
    },
    {
     "data": {
      "image/png": "[encoded data removed]",
      "text/plain": [
       "<Figure size 432x288 with 1 Axes>"
      ]
     },
     "metadata": {
      "needs_background": "light"
     },
     "output_type": "display_data"
    }
   ],
   "source": [
    "# Plot simulation outcomes\n",
    "MC_40AGG_60SPY_dist_10yrs_Option_2.plot_simulation()"
   ]
  },
  {
   "cell_type": "code",
   "execution_count": 114,
   "metadata": {},
   "outputs": [
    {
     "data": {
      "text/plain": [
       "<AxesSubplot:title={'center':'Distribution of Final Cumuluative Returns Across All 500 Simulations'}, ylabel='Frequency'>"
      ]
     },
     "execution_count": 114,
     "metadata": {},
     "output_type": "execute_result"
    },
    {
     "data": {
      "image/png": "[encoded data removed]",
      "text/plain": [
       "<Figure size 432x288 with 1 Axes>"
      ]
     },
     "metadata": {
      "needs_background": "light"
     },
     "output_type": "display_data"
    }
   ],
   "source": [
    "# Plot probability distribution and confidence intervals\n",
    "MC_40AGG_60SPY_dist_10yrs_Option_2.plot_distribution()"
   ]
  },
  {
   "cell_type": "code",
   "execution_count": 115,
   "metadata": {},
   "outputs": [
    {
     "name": "stdout",
     "output_type": "stream",
     "text": [
      "count           500.000000\n",
      "mean              4.220750\n",
      "std               2.551478\n",
      "min               0.383329\n",
      "25%               2.470686\n",
      "50%               3.547216\n",
      "75%               5.175526\n",
      "max              15.780005\n",
      "95% CI Lower      1.201493\n",
      "95% CI Upper     10.619837\n",
      "Name: 2520, dtype: float64\n"
     ]
    }
   ],
   "source": [
    "# Fetch summary statistics from the Monte Carlo simulation results\n",
    "MC_40AGG_60SPY_summary_10yrs_Option_2 = MC_40AGG_60SPY_dist_10yrs_Option_2.summarize_cumulative_return()\n",
    "\n",
    "# Print summary statistics\n",
    "print(MC_40AGG_60SPY_summary_10yrs_Option_2)"
   ]
  },
  {
   "cell_type": "code",
   "execution_count": 117,
   "metadata": {
    "tags": []
   },
   "outputs": [
    {
     "name": "stdout",
     "output_type": "stream",
     "text": [
      "There is a 95% chance that an initial investment of $149351.5 in the portfolio over the next 10 years will end within in the range of $179444.76 and $1586088.53\n"
     ]
    }
   ],
   "source": [
    "# Set initial investment\n",
    "initial_investment = total_savings\n",
    "\n",
    "# Use the lower and upper `95%` confidence intervals to calculate the range of the possible outcomes of our total savings\n",
    "ci_lower_10yrs_Option_2 = round(MC_40AGG_60SPY_summary_10yrs_Option_2[8]*initial_investment,2)\n",
    "ci_upper_10yrs_Option_2 = round(MC_40AGG_60SPY_summary_10yrs_Option_2[9]*initial_investment,2)\n",
    "\n",
    "# Print results\n",
    "print(f\"There is a 95% chance that an initial investment of ${initial_investment} in the portfolio\"\n",
    "      f\" over the next 10 years will end within in the range of\"\n",
    "      f\" ${ci_lower_10yrs_Option_2} and ${ci_upper_10yrs_Option_2}\")"
   ]
  },
  {
   "cell_type": "markdown",
   "metadata": {},
   "source": [
    "### Analyse the Return Ranges for option 2\n",
    "\n",
    "##### There is a 95% chance that an initial investment of 60000 dollars in the portfolio over the next 5 years will end within in the range of 52616.22 and 159946.75 dollars.\n",
    "\n",
    "##### There is a 95% chance that an initial investment of 60000 dollars in the portfolio over the next 10 years will end within in the range of 73010.25 and 315337.87 dollars.\n",
    "\n",
    "##### Reducing the investment term to 5 years and increasing the initial investment to 60000 shows that the lower confidence interval reduces to almost 50 percent the 30 year lower ci. The upper confidence level however reduces a massive amount, close to 10 percent of the 30 year upper ci\n",
    "\n",
    "##### Reducing the investment term to 10 years and increasing the initial investment to 60000 shows that the lower confidence interval reduces to almost 80 percent the 30 year lower ci. The upper confidence level however reduces a massive amount, close to 22 percent of the 30 year upper ci"
   ]
  },
  {
   "cell_type": "code",
   "execution_count": null,
   "metadata": {},
   "outputs": [],
   "source": []
  }
 ],
 "metadata": {
  "kernelspec": {
   "display_name": "Python 3 (ipykernel)",
   "language": "python",
   "name": "python3"
  },
  "language_info": {
   "codemirror_mode": {
    "name": "ipython",
    "version": 3
   },
   "file_extension": ".py",
   "mimetype": "text/x-python",
   "name": "python",
   "nbconvert_exporter": "python",
   "pygments_lexer": "ipython3",
   "version": "3.7.11"
  },
  "nteract": {
   "version": "0.28.0"
  }
 },
 "nbformat": 4,
 "nbformat_minor": 4
}
