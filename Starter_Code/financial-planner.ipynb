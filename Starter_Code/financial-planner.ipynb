{
 "cells": [
  {
   "cell_type": "markdown",
   "metadata": {},
   "source": [
    "# Unit 5 - Financial Planning"
   ]
  },
  {
   "cell_type": "code",
   "execution_count": null,
   "metadata": {},
   "outputs": [],
   "source": [
    "# Initial imports\n",
    "import os\n",
    "import requests\n",
    "import pandas as pd\n",
    "from dotenv import load_dotenv\n",
    "import alpaca_trade_api as tradeapi\n",
    "from MCForecastTools import MCSimulation\n",
    "import json\n",
    "\n",
    "%matplotlib inline"
   ]
  },
  {
   "cell_type": "code",
   "execution_count": null,
   "metadata": {},
   "outputs": [],
   "source": [
    "# Load .env enviroment variables\n",
    "load_dotenv()"
   ]
  },
  {
   "cell_type": "markdown",
   "metadata": {},
   "source": [
    "## Part 1 - Personal Finance Planner"
   ]
  },
  {
   "cell_type": "markdown",
   "metadata": {},
   "source": [
    "### Collect Crypto Prices Using the `requests` Library"
   ]
  },
  {
   "cell_type": "code",
   "execution_count": null,
   "metadata": {},
   "outputs": [],
   "source": [
    "# Set current amount of crypto assets\n",
    "my_btc = 1.2 \n",
    "my_eth = 5.3"
   ]
  },
  {
   "cell_type": "code",
   "execution_count": null,
   "metadata": {},
   "outputs": [],
   "source": [
    "# Crypto API URLs for bitcoin and ethereum\n",
    "btc_url = \"https://api.alternative.me/v2/ticker/Bitcoin/?convert=CAD\"\n",
    "eth_url = \"https://api.alternative.me/v2/ticker/Ethereum/?convert=CAD\""
   ]
  },
  {
   "cell_type": "code",
   "execution_count": null,
   "metadata": {},
   "outputs": [],
   "source": [
    "# Fetch current BTC price\n",
    "# Get bitcoin data using call to btc api url \n",
    "btc_response_data = requests.get(btc_url)\n",
    "# Convert response from api call to json format\n",
    "btc_response_content_json = btc_response_data.json()\n",
    "# Reach into json response content and select the price as an integer \n",
    "btc_price = int(btc_response_content_json[\"data\"][\"1\"][\"quotes\"][\"CAD\"][\"price\"])\n",
    "\n",
    "# Fetch current ETH price\n",
    "# Get ethereum data using call to eth api url \n",
    "eth_response_data = requests.get(eth_url)\n",
    "# Convert response from api call to json format\n",
    "eth_response_content_json = eth_response_data.json()\n",
    "# Reach into json response content and select the price as an integer \n",
    "eth_price = int(eth_response_content_json[\"data\"][\"1027\"][\"quotes\"][\"CAD\"][\"price\"])\n",
    "\n",
    "\n",
    "# Compute current value of each crpto\n",
    "my_btc_value = btc_price * my_btc\n",
    "my_eth_value = eth_price * my_eth\n",
    "\n",
    "# Print current crypto wallet balance\n",
    "print(f\"The current value of your {my_btc} BTC is ${my_btc_value:0.2f}\")\n",
    "print(f\"The current value of your {my_eth} ETH is ${my_eth_value:0.2f}\")\n"
   ]
  },
  {
   "cell_type": "markdown",
   "metadata": {},
   "source": [
    "### Collect Investments Data Using Alpaca: `SPY` (stocks) and `AGG` (bonds)"
   ]
  },
  {
   "cell_type": "code",
   "execution_count": null,
   "metadata": {},
   "outputs": [],
   "source": [
    "# Set current amount of shares\n",
    "my_agg = 200\n",
    "my_spy = 50"
   ]
  },
  {
   "cell_type": "code",
   "execution_count": null,
   "metadata": {},
   "outputs": [],
   "source": [
    "# Set Alpaca API key and secret\n",
    "alpaca_api_key = os.getenv(\"ALPACA_API_KEY\")\n",
    "alpaca_secret_key = os.getenv(\"ALPACA_SECRET_KEY\")\n",
    "\n",
    "# Create the Alpaca API object\n",
    "api = tradeapi.REST(\n",
    "    alpaca_api_key,\n",
    "    alpaca_secret_key,\n",
    "    api_version = \"v2\"\n",
    ")"
   ]
  },
  {
   "cell_type": "code",
   "execution_count": null,
   "metadata": {},
   "outputs": [],
   "source": [
    "# Format current date as ISO format\n",
    "from datetime import datetime\n",
    "today = datetime.now().isoformat()\n",
    "\n",
    "# Set the tickers\n",
    "tickers = [\"AGG\", \"SPY\"]\n",
    "\n",
    "# Set timeframe to '1D' for Alpaca API\n",
    "timeframe = \"1D\"\n",
    "\n",
    "# Get current closing prices for SPY and AGG\n",
    "# (use a limit=1000 parameter to call the most recent 1000 days of data)\n",
    "bar = api.get_barset(\n",
    "    tickers, \n",
    "    timeframe, \n",
    "    start=today, \n",
    "    end=today, \n",
    "    limit=1000\n",
    ").df\n",
    "\n",
    "# Preview DataFrame\n",
    "bar"
   ]
  },
  {
   "cell_type": "code",
   "execution_count": null,
   "metadata": {},
   "outputs": [],
   "source": [
    "# Pick AGG and SPY close prices\n",
    "latest_close = bar.tail(1)\n",
    "\n",
    "agg_close_price = latest_close[\"AGG\"][\"close\"][0]\n",
    "spy_close_price = latest_close[\"SPY\"][\"close\"][0]\n",
    "\n",
    "# Print AGG and SPY close prices\n",
    "print(f\"Current AGG closing price: ${agg_close_price}\")\n",
    "print(f\"Current SPY closing price: ${spy_close_price}\")"
   ]
  },
  {
   "cell_type": "code",
   "execution_count": null,
   "metadata": {},
   "outputs": [],
   "source": [
    "# Compute the current value of shares\n",
    "my_agg_value = my_agg * agg_close_price\n",
    "my_spy_value = my_spy * spy_close_price\n",
    "\n",
    "# Print current value of shares\n",
    "print(f\"The current value of your {my_agg} AGG shares is ${my_agg_value:0.2f}\")\n",
    "print(f\"The current value of your {my_spy} SPY shares is ${my_spy_value:0.2f}\")"
   ]
  },
  {
   "cell_type": "markdown",
   "metadata": {},
   "source": [
    "### Savings Health Analysis"
   ]
  },
  {
   "cell_type": "code",
   "execution_count": null,
   "metadata": {},
   "outputs": [],
   "source": [
    "# Set monthly household income\n",
    "monthly_income = 12000\n",
    "\n",
    "#investment totals\n",
    "crypto_total = my_btc_value + my_eth_value\n",
    "shares_total = my_agg_value + my_spy_value\n",
    "\n",
    "# Consolidate financial assets data\n",
    "investment_type = [\"crypto \", \"shares \"]\n",
    "\n",
    "# Create savings DataFrame\n",
    "# Create the shares DataFrame with `tickers` as index\n",
    "df_savings  = pd.DataFrame(index=[investment_type])\n",
    "df_savings['amount'] = [crypto_total, shares_total]\n",
    "\n",
    "# Display savings DataFrame\n",
    "df_savings"
   ]
  },
  {
   "cell_type": "code",
   "execution_count": null,
   "metadata": {},
   "outputs": [],
   "source": [
    "# Plot savings pie chart\n",
    "labels = 'Crypto', 'Shares'\n",
    "df_savings.plot.pie(y='amount',subplots=False, autopct='%1.1f%%',labels=labels)"
   ]
  },
  {
   "cell_type": "code",
   "execution_count": null,
   "metadata": {},
   "outputs": [],
   "source": [
    "# Set ideal emergency fund\n",
    "emergency_fund = monthly_income * 3\n",
    "\n",
    "# Total Savings\n",
    "total_savings = df_savings[\"amount\"][0] + df_savings[\"amount\"][1]\n",
    "\n",
    "# Validate saving health\n",
    "if total_savings > emergency_fund:\n",
    "    print(f\"Congratulations you have more than enough money in your investments in case of an emergency\")\n",
    "elif total_savings == emergency_fund:\n",
    "    print(f\"Congratulations you have reached your financial goal of having enough money in case of emergency\")\n",
    "elif total_savings < emergency_fund:\n",
    "    print(f\"You are ${(round(total_savings-emergency_fund,2)*-1)} away from having enough money in case of emergency\") "
   ]
  },
  {
   "cell_type": "markdown",
   "metadata": {},
   "source": [
    "## Part 2 - Retirement Planning\n",
    "\n",
    "### Monte Carlo Simulation"
   ]
  },
  {
   "cell_type": "code",
   "execution_count": null,
   "metadata": {},
   "outputs": [],
   "source": [
    "# Set start and end dates of five years back from today.\n",
    "# Sample results may vary from the solution based on the time frame chosen\n",
    "start_date = pd.Timestamp('2016-12-07', tz='America/New_York').isoformat()\n",
    "end_date = pd.Timestamp('2021-12-07', tz='America/New_York').isoformat()"
   ]
  },
  {
   "cell_type": "code",
   "execution_count": null,
   "metadata": {},
   "outputs": [],
   "source": [
    "# Get 5 years' worth of historical data for SPY and AGG\n",
    "\n",
    "# Set timeframe to '1D' for Alpaca API\n",
    "timeframe = \"1D\"\n",
    "\n",
    "# Get current closing prices for SPY and AGG\n",
    "# (use a limit=1000 parameter to call the most recent 1000 days of data)\n",
    "df_stock_data = api.get_barset(\n",
    "    tickers, \n",
    "    timeframe, \n",
    "    start=start_date, \n",
    "    end=end_date, limit=1000\n",
    ").df\n",
    "\n",
    "# Display sample data\n",
    "df_stock_data.head()"
   ]
  },
  {
   "cell_type": "code",
   "execution_count": null,
   "metadata": {},
   "outputs": [],
   "source": [
    "# Configuring a Monte Carlo simulation to forecast 30 years cumulative returns\n",
    "MC_40AGG_60SPY_dist = MCSimulation(\n",
    "    portfolio_data = df_stock_data,\n",
    "    weights = [0.4,0.6],\n",
    "    num_simulation = 500,\n",
    "    num_trading_days = 252*30\n",
    ")"
   ]
  },
  {
   "cell_type": "code",
   "execution_count": null,
   "metadata": {},
   "outputs": [],
   "source": [
    "# Print the simulation input data\n",
    "MC_40AGG_60SPY_dist.portfolio_data.head()"
   ]
  },
  {
   "cell_type": "code",
   "execution_count": null,
   "metadata": {},
   "outputs": [],
   "source": [
    "# Running a Monte Carlo simulation to forecast 30 years cumulative returns\n",
    "MC_40AGG_60SPY_dist.calc_cumulative_return()"
   ]
  },
  {
   "cell_type": "code",
   "execution_count": null,
   "metadata": {},
   "outputs": [],
   "source": [
    "# Plot simulation outcomes\n",
    "MC_40AGG_60SPY_dist.plot_simulation()"
   ]
  },
  {
   "cell_type": "code",
   "execution_count": null,
   "metadata": {},
   "outputs": [],
   "source": [
    "# Plot probability distribution and confidence intervals\n",
    "MC_40AGG_60SPY_dist.plot_distribution()"
   ]
  },
  {
   "cell_type": "markdown",
   "metadata": {},
   "source": [
    "### Retirement Analysis"
   ]
  },
  {
   "cell_type": "code",
   "execution_count": null,
   "metadata": {},
   "outputs": [],
   "source": [
    "# Fetch summary statistics from the Monte Carlo simulation results\n",
    "MC_40AGG_60SPY_summary = MC_40AGG_60SPY_dist.summarize_cumulative_return()\n",
    "\n",
    "# Print summary statistics\n",
    "print(MC_40AGG_60SPY_summary)"
   ]
  },
  {
   "cell_type": "markdown",
   "metadata": {},
   "source": [
    "### Calculate the expected portfolio return at the `95%` lower and upper confidence intervals based on a `$20,000` initial investment."
   ]
  },
  {
   "cell_type": "code",
   "execution_count": null,
   "metadata": {},
   "outputs": [],
   "source": [
    "# Set initial investment\n",
    "initial_investment_30yr_20K = 20000\n",
    "\n",
    "# Use the lower and upper `95%` confidence intervals to calculate the range of the possible outcomes of our $20,000\n",
    "ci_lower_20k = round(MC_40AGG_60SPY_summary[8]*initial_investment_30yr_20K,2)\n",
    "ci_upper_20k = round(MC_40AGG_60SPY_summary[9]*initial_investment_30yr_20K,2)\n",
    "\n",
    "# Print results\n",
    "print(f\"There is a 95% chance that an initial investment of ${initial_investment_30yr_20K} in the portfolio\"\n",
    "      f\" over the next 30 years will end within in the range of\"\n",
    "      f\" ${ci_lower_20k} and ${ci_upper_20k}\")"
   ]
  },
  {
   "cell_type": "markdown",
   "metadata": {},
   "source": [
    "### Calculate the expected portfolio return at the `95%` lower and upper confidence intervals based on a `50%` increase in the initial investment."
   ]
  },
  {
   "cell_type": "code",
   "execution_count": null,
   "metadata": {},
   "outputs": [],
   "source": [
    "# Set initial investment\n",
    "initial_investment_30yr_30K = int(20000 * 1.5)\n",
    "\n",
    "# Use the lower and upper `95%` confidence intervals to calculate the range of the possible outcomes of our $30,000\n",
    "ci_lower_30k = round(MC_40AGG_60SPY_summary[8]*initial_investment_30yr_30K,2)\n",
    "ci_upper_30k = round(MC_40AGG_60SPY_summary[9]*initial_investment_30yr_30K,2)\n",
    "\n",
    "# Print results\n",
    "print(f\"There is a 95% chance that an initial investment of ${initial_investment_30yr_30K} in the portfolio\"\n",
    "      f\" over the next 30 years will end within in the range of\"\n",
    "      f\" ${ci_lower_30k} and ${ci_upper_30k}\")"
   ]
  },
  {
   "cell_type": "markdown",
   "metadata": {},
   "source": [
    "## Optional Challenge - Early Retirement\n",
    "\n",
    "\n",
    "### Five Years Retirement Option"
   ]
  },
  {
   "cell_type": "code",
   "execution_count": null,
   "metadata": {},
   "outputs": [],
   "source": [
    "# Configuring a Monte Carlo simulation to forecast 5 years cumulative returns\n",
    "MC_40AGG_60SPY_dist_5yrs = MCSimulation(\n",
    "    portfolio_data = df_stock_data,\n",
    "    weights = [0.4,0.6],\n",
    "    num_simulation = 500,\n",
    "    num_trading_days = 252*5\n",
    ")"
   ]
  },
  {
   "cell_type": "code",
   "execution_count": null,
   "metadata": {
    "tags": []
   },
   "outputs": [],
   "source": [
    "# Running a Monte Carlo simulation to forecast 5 years cumulative returns\n",
    "MC_40AGG_60SPY_dist_5yrs.calc_cumulative_return()"
   ]
  },
  {
   "cell_type": "code",
   "execution_count": null,
   "metadata": {
    "tags": []
   },
   "outputs": [],
   "source": [
    "# Plot simulation outcomes\n",
    "MC_40AGG_60SPY_dist_5yrs.plot_simulation()"
   ]
  },
  {
   "cell_type": "code",
   "execution_count": null,
   "metadata": {},
   "outputs": [],
   "source": [
    "# Plot probability distribution and confidence intervals\n",
    "MC_40AGG_60SPY_dist_5yrs.plot_distribution()"
   ]
  },
  {
   "cell_type": "code",
   "execution_count": null,
   "metadata": {},
   "outputs": [],
   "source": [
    "# Fetch summary statistics from the Monte Carlo simulation results\n",
    "MC_40AGG_60SPY_summary_5yrs = MC_40AGG_60SPY_dist_5yrs.summarize_cumulative_return()\n",
    "\n",
    "# Print summary statistics\n",
    "print(MC_40AGG_60SPY_summary_5yrs)"
   ]
  },
  {
   "cell_type": "code",
   "execution_count": null,
   "metadata": {},
   "outputs": [],
   "source": [
    "# Set initial investment\n",
    "initial_investment_60K = 60000\n",
    "\n",
    "# Use the lower and upper `95%` confidence intervals to calculate the range of the possible outcomes of our $60,000\n",
    "ci_lower_5yrs = round(MC_40AGG_60SPY_summary_5yrs[8]*initial_investment_60K,2)\n",
    "ci_upper_5yrs = round(MC_40AGG_60SPY_summary_5yrs[9]*initial_investment_60K,2)\n",
    "\n",
    "# Print results\n",
    "print(f\"There is a 95% chance that an initial investment of ${initial_investment_60K} in the portfolio\"\n",
    "      f\" over the next 5 years will end within in the range of\"\n",
    "      f\" ${ci_lower_5yrs} and ${ci_upper_5yrs}\")"
   ]
  },
  {
   "cell_type": "markdown",
   "metadata": {},
   "source": [
    "### Ten Years Retirement Option"
   ]
  },
  {
   "cell_type": "code",
   "execution_count": null,
   "metadata": {},
   "outputs": [],
   "source": [
    "# Configuring a Monte Carlo simulation to forecast 10 years cumulative returns\n",
    "MC_40AGG_60SPY_dist_10yrs = MCSimulation(\n",
    "    portfolio_data = df_stock_data,\n",
    "    weights = [0.4,0.6],\n",
    "    num_simulation = 500,\n",
    "    num_trading_days = 252*10\n",
    ")"
   ]
  },
  {
   "cell_type": "code",
   "execution_count": null,
   "metadata": {},
   "outputs": [],
   "source": [
    "# Running a Monte Carlo simulation to forecast 10 years cumulative returns\n",
    "MC_40AGG_60SPY_dist_10yrs.calc_cumulative_return()"
   ]
  },
  {
   "cell_type": "code",
   "execution_count": null,
   "metadata": {},
   "outputs": [],
   "source": [
    "# Plot simulation outcomes\n",
    "MC_40AGG_60SPY_dist_10yrs.plot_simulation()"
   ]
  },
  {
   "cell_type": "code",
   "execution_count": null,
   "metadata": {},
   "outputs": [],
   "source": [
    "# Plot probability distribution and confidence intervals\n",
    "MC_40AGG_60SPY_dist_10yrs.plot_distribution()"
   ]
  },
  {
   "cell_type": "code",
   "execution_count": null,
   "metadata": {},
   "outputs": [],
   "source": [
    "# Fetch summary statistics from the Monte Carlo simulation results\n",
    "MC_40AGG_60SPY_summary_10yrs = MC_40AGG_60SPY_dist_10yrs.summarize_cumulative_return()\n",
    "\n",
    "# Print summary statistics\n",
    "print(MC_40AGG_60SPY_summary_10yrs)"
   ]
  },
  {
   "cell_type": "code",
   "execution_count": null,
   "metadata": {},
   "outputs": [],
   "source": [
    "# Set initial investment\n",
    "initial_investment_60K = 60000\n",
    "\n",
    "# Use the lower and upper `95%` confidence intervals to calculate the range of the possible outcomes of our $60,000\n",
    "ci_lower_10yrs = round(MC_40AGG_60SPY_summary_10yrs[8]*initial_investment_60K,2)\n",
    "ci_upper_10yrs = round(MC_40AGG_60SPY_summary_10yrs[9]*initial_investment_60K,2)\n",
    "\n",
    "# Print results\n",
    "print(f\"There is a 95% chance that an initial investment of ${initial_investment_60K} in the portfolio\"\n",
    "      f\" over the next 10 years will end within in the range of\"\n",
    "      f\" ${ci_lower_10yrs} and ${ci_upper_10yrs}\")"
   ]
  },
  {
   "cell_type": "markdown",
   "metadata": {
    "tags": []
   },
   "source": [
    "### Analyse the Return Ranges"
   ]
  },
  {
   "cell_type": "markdown",
   "metadata": {
    "tags": []
   },
   "source": [
    "##### Print the simulation data"
   ]
  },
  {
   "cell_type": "code",
   "execution_count": 95,
   "metadata": {},
   "outputs": [
    {
     "name": "stdout",
     "output_type": "stream",
     "text": [
      "There is a 95% chance that an initial investment of $20000 in the portfolio over the next 30 years will end within in the range of $88601.37 and $1254795.43\n",
      "There is a 95% chance that an initial investment of $30000 in the portfolio over the next 30 years will end within in the range of $132902.06 and $1882193.14\n",
      "There is a 95% chance that an initial investment of $60000 in the portfolio over the next 5 years will end within in the range of $55165.26 and $166677.18\n",
      "There is a 95% chance that an initial investment of $60000 in the portfolio over the next 10 years will end within in the range of $66095.68 and $337900.54\n"
     ]
    }
   ],
   "source": [
    "# Print results\n",
    "print(f\"There is a 95% chance that an initial investment of ${initial_investment_30yr_20K} in the portfolio\"\n",
    "      f\" over the next 30 years will end within in the range of\"\n",
    "      f\" ${ci_lower_20k} and ${ci_upper_20k}\")\n",
    "\n",
    "# Print results\n",
    "print(f\"There is a 95% chance that an initial investment of ${initial_investment_30yr_30K} in the portfolio\"\n",
    "      f\" over the next 30 years will end within in the range of\"\n",
    "      f\" ${ci_lower_30k} and ${ci_upper_30k}\")\n",
    "\n",
    "# Print results\n",
    "print(f\"There is a 95% chance that an initial investment of ${initial_investment_60K} in the portfolio\"\n",
    "      f\" over the next 5 years will end within in the range of\"\n",
    "      f\" ${ci_lower_5yrs} and ${ci_upper_5yrs}\")\n",
    "\n",
    "# Print results\n",
    "print(f\"There is a 95% chance that an initial investment of ${initial_investment_60K} in the portfolio\"\n",
    "      f\" over the next 10 years will end within in the range of\"\n",
    "      f\" ${ci_lower_10yrs} and ${ci_upper_10yrs}\")"
   ]
  },
  {
   "cell_type": "markdown",
   "metadata": {
    "tags": []
   },
   "source": [
    "### Summarise the Return Ranges\n",
    "\n",
    "##### Reducing the investment term to 5 years and increasing the initial investment to 60000 shows that the lower confidence interval reduces to almost 50 percent of the 30 year lower ci. The upper confidence level however reduces a massive amount, and is close to 10 percent of the 30 year upper ci\n",
    "\n",
    "##### Reducing the investment term to 10 years and increasing the initial investment to 60000 shows that the lower confidence interval reduces to almost 80 percent of the 30 year lower ci. The upper confidence level however reduces a massive amount, close to 22 percent of the 30 year upper ci\n",
    "\n",
    "##### Both the 5 and 10 year options even with an increase of initial investment to 60000 dollars do not come close to providing enough money to fund retirement."
   ]
  },
  {
   "cell_type": "markdown",
   "metadata": {},
   "source": [
    "### Five Years Retirement Option 2\n",
    "\n",
    "#### Lets look another option and see what the figures look like if we use all our savings as calculated in the Savings Health section above as the initial investment, and we invest it with a much more aggressive 10/90 bond to shares split for 5 years\n"
   ]
  },
  {
   "cell_type": "code",
   "execution_count": null,
   "metadata": {},
   "outputs": [],
   "source": [
    "# Configuring a Monte Carlo simulation to forecast 5 years cumulative returns\n",
    "MC_40AGG_60SPY_dist_5yrs_Option_2 = MCSimulation(\n",
    "    portfolio_data = df_stock_data,\n",
    "    weights = [0.1,0.9],\n",
    "    num_simulation = 500,\n",
    "    num_trading_days = 252*5\n",
    ")"
   ]
  },
  {
   "cell_type": "code",
   "execution_count": null,
   "metadata": {
    "tags": []
   },
   "outputs": [],
   "source": [
    "# Running a Monte Carlo simulation to forecast 5 years cumulative returns\n",
    "MC_40AGG_60SPY_dist_5yrs_Option_2.calc_cumulative_return()"
   ]
  },
  {
   "cell_type": "code",
   "execution_count": null,
   "metadata": {
    "tags": []
   },
   "outputs": [],
   "source": [
    "# Plot simulation outcomes\n",
    "MC_40AGG_60SPY_dist_5yrs_Option_2.plot_simulation()"
   ]
  },
  {
   "cell_type": "code",
   "execution_count": null,
   "metadata": {},
   "outputs": [],
   "source": [
    "# Plot probability distribution and confidence intervals\n",
    "MC_40AGG_60SPY_dist_5yrs_Option_2.plot_distribution()"
   ]
  },
  {
   "cell_type": "code",
   "execution_count": null,
   "metadata": {},
   "outputs": [],
   "source": [
    "# Fetch summary statistics from the Monte Carlo simulation results\n",
    "MC_40AGG_60SPY_summary_5yrs_Option_2 = MC_40AGG_60SPY_dist_5yrs_Option_2.summarize_cumulative_return()\n",
    "\n",
    "# Print summary statistics\n",
    "print(MC_40AGG_60SPY_summary_5yrs_Option_2)"
   ]
  },
  {
   "cell_type": "code",
   "execution_count": null,
   "metadata": {},
   "outputs": [],
   "source": [
    "# Use the lower and upper `95%` confidence intervals to calculate the range of the possible outcomes of our total savings\n",
    "ci_lower_5yrs_Option_2 = round(MC_40AGG_60SPY_summary_5yrs_Option_2[8]*total_savings,2)\n",
    "ci_upper_5yrs_Option_2 = round(MC_40AGG_60SPY_summary_5yrs_Option_2[9]*total_savings,2)\n",
    "\n",
    "# Print results\n",
    "print(f\"There is a 95% chance that an initial investment of ${total_savings} in the portfolio\"\n",
    "      f\" over the next 5 years will end within in the range of\"\n",
    "      f\" ${ci_lower_5yrs_Option_2} and ${ci_upper_5yrs_Option_2}\")"
   ]
  },
  {
   "cell_type": "markdown",
   "metadata": {},
   "source": [
    "### Ten Years Retirement Option 2\n",
    "\n",
    "#### Lets look another option and see what the figures look like if we use all our savings as calculated in the Savings Health section above as the initial investment, and we invest it with a much more aggressive 10/90 bond to shares split for 10 years"
   ]
  },
  {
   "cell_type": "code",
   "execution_count": null,
   "metadata": {},
   "outputs": [],
   "source": [
    "# Configuring a Monte Carlo simulation to forecast 10 years cumulative returns\n",
    "MC_40AGG_60SPY_dist_10yrs_Option_2 = MCSimulation(\n",
    "    portfolio_data = df_stock_data,\n",
    "    weights = [0.1,0.9],\n",
    "    num_simulation = 500,\n",
    "    num_trading_days = 252*10\n",
    ")"
   ]
  },
  {
   "cell_type": "code",
   "execution_count": null,
   "metadata": {
    "tags": []
   },
   "outputs": [],
   "source": [
    "# Running a Monte Carlo simulation to forecast 10 years cumulative returns\n",
    "MC_40AGG_60SPY_dist_10yrs_Option_2.calc_cumulative_return()"
   ]
  },
  {
   "cell_type": "code",
   "execution_count": null,
   "metadata": {
    "tags": []
   },
   "outputs": [],
   "source": [
    "# Plot simulation outcomes\n",
    "MC_40AGG_60SPY_dist_10yrs_Option_2.plot_simulation()"
   ]
  },
  {
   "cell_type": "code",
   "execution_count": null,
   "metadata": {},
   "outputs": [],
   "source": [
    "# Plot probability distribution and confidence intervals\n",
    "MC_40AGG_60SPY_dist_10yrs_Option_2.plot_distribution()"
   ]
  },
  {
   "cell_type": "code",
   "execution_count": null,
   "metadata": {},
   "outputs": [],
   "source": [
    "# Fetch summary statistics from the Monte Carlo simulation results\n",
    "MC_40AGG_60SPY_summary_10yrs_Option_2 = MC_40AGG_60SPY_dist_10yrs_Option_2.summarize_cumulative_return()\n",
    "\n",
    "# Print summary statistics\n",
    "print(MC_40AGG_60SPY_summary_10yrs_Option_2)"
   ]
  },
  {
   "cell_type": "code",
   "execution_count": null,
   "metadata": {
    "tags": []
   },
   "outputs": [],
   "source": [
    "# Set initial investment\n",
    "initial_investment = total_savings\n",
    "\n",
    "# Use the lower and upper `95%` confidence intervals to calculate the range of the possible outcomes of our total savings\n",
    "ci_lower_10yrs_Option_2 = round(MC_40AGG_60SPY_summary_10yrs_Option_2[8]*total_savings,2)\n",
    "ci_upper_10yrs_Option_2 = round(MC_40AGG_60SPY_summary_10yrs_Option_2[9]*total_savings,2)\n",
    "\n",
    "# Print results\n",
    "print(f\"There is a 95% chance that an initial investment of ${total_savings} in the portfolio\"\n",
    "      f\" over the next 10 years will end within in the range of\"\n",
    "      f\" ${ci_lower_10yrs_Option_2} and ${ci_upper_10yrs_Option_2}\")"
   ]
  },
  {
   "cell_type": "markdown",
   "metadata": {},
   "source": [
    "### Analyse the Return Ranges for Retirement Option 2\n"
   ]
  },
  {
   "cell_type": "markdown",
   "metadata": {
    "tags": []
   },
   "source": [
    "##### Print the simulation data for a 10/90 Portfolio and using Total Savings as the initial investment"
   ]
  },
  {
   "cell_type": "code",
   "execution_count": 96,
   "metadata": {},
   "outputs": [
    {
     "name": "stdout",
     "output_type": "stream",
     "text": [
      "There is a 95% chance that an initial investment of $150149.5 in the portfolio over the next 5 years will end within in the range of $122953.54 and $633679.12\n",
      "There is a 95% chance that an initial investment of $150149.5 in the portfolio over the next 10 years will end within in the range of $169676.3 and $1839488.93\n"
     ]
    }
   ],
   "source": [
    "# Print results\n",
    "print(f\"There is a 95% chance that an initial investment of ${total_savings} in the portfolio\"\n",
    "      f\" over the next 5 years will end within in the range of\"\n",
    "      f\" ${ci_lower_5yrs_Option_2} and ${ci_upper_5yrs_Option_2}\")\n",
    "\n",
    "# Print results\n",
    "print(f\"There is a 95% chance that an initial investment of ${total_savings} in the portfolio\"\n",
    "      f\" over the next 10 years will end within in the range of\"\n",
    "      f\" ${ci_lower_10yrs_Option_2} and ${ci_upper_10yrs_Option_2}\")"
   ]
  },
  {
   "cell_type": "markdown",
   "metadata": {},
   "source": [
    "### Summarise the Return Ranges for Retirement Option 2\n",
    "\n",
    "##### Increasing the initial investment to total savings and selecting a much more aggressive 10/90 portfolio split over 5 years still does not come close to the 30 year upper ci for a 20K initial investment. It can be seen that increasing both the initial investment and also selecting a more aggressive portfolio split yields a value for the ci uppper that is around 50% of the 30 year figure. If this option was selected it would be estimated that you would retire on roughly half of the 40/60 split portfolio with a 20k initial investment over 30 years.\n",
    "\n",
    "##### Increasing the initial investment to total savings and selecting a much more aggressive 10/90 portfolio split over 10 years exceeds the 30 year lower and upper ci for a 20K initial investment. It can be seen that increasing both the initial investment amount to total savings and also selecting a more aggressive portfolio split yields a value for the ci uppper that is around 150% of the 30 year figure and a ci lower that is around 200% of the 30 year figure. If this option was selected it would be estimated that you would retire on roughly double the amount compared to the 40/60 split portfolio with a 20k initial investment over 30 years.\n"
   ]
  },
  {
   "cell_type": "code",
   "execution_count": null,
   "metadata": {},
   "outputs": [],
   "source": []
  }
 ],
 "metadata": {
  "kernelspec": {
   "display_name": "Python 3 (ipykernel)",
   "language": "python",
   "name": "python3"
  },
  "language_info": {
   "codemirror_mode": {
    "name": "ipython",
    "version": 3
   },
   "file_extension": ".py",
   "mimetype": "text/x-python",
   "name": "python",
   "nbconvert_exporter": "python",
   "pygments_lexer": "ipython3",
   "version": "3.7.11"
  },
  "nteract": {
   "version": "0.28.0"
  }
 },
 "nbformat": 4,
 "nbformat_minor": 4
}
